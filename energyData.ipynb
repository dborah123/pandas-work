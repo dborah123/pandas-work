{
 "metadata": {
  "language_info": {
   "codemirror_mode": {
    "name": "ipython",
    "version": 3
   },
   "file_extension": ".py",
   "mimetype": "text/x-python",
   "name": "python",
   "nbconvert_exporter": "python",
   "pygments_lexer": "ipython3",
   "version": "3.8.5-final"
  },
  "orig_nbformat": 2,
  "kernelspec": {
   "name": "python3",
   "display_name": "Python 3",
   "language": "python"
  }
 },
 "nbformat": 4,
 "nbformat_minor": 2,
 "cells": [
  {
   "source": [
    "# Country Data:  \n",
    "Basically a simple project I worked on to practice cleaning data and learning how to merge it"
   ],
   "cell_type": "markdown",
   "metadata": {}
  },
  {
   "cell_type": "code",
   "execution_count": 2,
   "metadata": {},
   "outputs": [],
   "source": [
    "import pandas as pd\n",
    "import numpy as np"
   ]
  },
  {
   "cell_type": "code",
   "execution_count": 1,
   "metadata": {},
   "outputs": [],
   "source": [
    "def energyData():\n",
    "    '''\n",
    "    Returns a daaframe with data about GDP, energy, power rankings of country\n",
    "\n",
    "    Energy Indicators.xls: data of countries' energy output and related data\n",
    "    worldBank.csv: data of nations' GDP and finacial related data\n",
    "    scimagojr-3.xlsx: data of nations power ranks in energy and manufacturing\n",
    "    '''\n",
    "\n",
    "    #Obtaining 'Energy' file and turning it into a clean dataset\n",
    "    Energy = pd.read_excel('assets/Energy Indicators.xls')\n",
    "    Energy = Energy.drop(['Unnamed: 0', 'Unnamed: 1'], axis = 1)\n",
    "    Energy.columns = ['Country', 'Energy Supply', 'Energy Supply per Capita', '% Renewable']\n",
    "    Energy = Energy.dropna()[2:]\n",
    "    Energy['Energy Supply'] = Energy['Energy Supply'].apply(lambda x: x*1000000)\n",
    "    \n",
    "    Energy['Country'].replace('(\\([\\w ]*\\))','', regex = True, inplace = True)\n",
    "    Energy['Country'].replace('([0-9]+)', '', regex = True, inplace = True)\n",
    "    Energy.replace('[.]+', np.NaN, regex = True, inplace = True)\n",
    "    Energy['Country'].replace('\\s$', '', regex = True, inplace = True)\n",
    "\n",
    "    Energy = Energy.set_index('Country')\n",
    "    Energy.rename(index = {\"Republic of Korea\": \"South Korea\",\n",
    "                                    \"United States of America\": \"United States\",\n",
    "                                    \"United Kingdom of Great Britain and Northern Ireland\": \"United Kingdom\",\n",
    "                                    \"China, Hong Kong Special Administrative Region\": \"Hong Kong\"}, inplace = True)\n",
    "\n",
    "    \n",
    "    #Obtaining 'GDP' file and turning it into a clean dataframe\n",
    "    GDP = pd.read_csv('assets/world_bank.csv')[4:]\n",
    "    GDP.replace({\"Korea, Rep.\": \"South Korea\", \"Iran, Islamic Rep.\": \"Iran\",\"Hong Kong SAR, China\": \"Hong Kong\"}, inplace = True)\n",
    "    GDP.columns = [str(x) for x in range(1956, 2016)]\n",
    "    GDP.rename({'1956': 'Country', '1957': 'World Development Indicators',\n",
    "               '1958': 'GDP at market prices (constant 2010 US$)', \n",
    "               '1959': 'NY.GDP.MKTP.KD'}, axis = \"columns\", inplace = True)\n",
    "    GDP = GDP.set_index('Country')\n",
    "    \n",
    "\n",
    "    #Obtaining 'ScimEn' file and turning into a clean dataframe\n",
    "    ScimEn = pd.read_excel('assets/scimagojr-3.xlsx')\n",
    "    ScimEn = ScimEn.set_index('Country')\n",
    "    \n",
    "    #Merging the dataframes\n",
    "    #Merging Energy with ScrimEn\n",
    "    df = pd.merge(ScimEn, Energy, how = 'left', left_index = True, right_index = True)\n",
    "    df = df.sort_values('Rank',ascending = True)\n",
    "    \n",
    "    #Merging df with GDP\n",
    "    gdpCols = [str(x) for x in range(2006, 2016)]    \n",
    "    df = pd.merge(df[0:15], GDP[gdpCols], how = 'left', left_index = True, right_index = True)\n",
    "    df = df.sort_values('Rank')\n",
    "    \n",
    "    return df"
   ]
  },
  {
   "cell_type": "code",
   "execution_count": null,
   "metadata": {},
   "outputs": [],
   "source": []
  }
 ]
}